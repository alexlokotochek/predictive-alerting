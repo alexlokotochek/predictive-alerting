{
 "cells": [
  {
   "cell_type": "code",
   "execution_count": 15,
   "metadata": {
    "collapsed": true
   },
   "outputs": [],
   "source": [
    "import requests\n",
    "import json\n",
    "import datetime\n",
    "\n"
   ]
  },
  {
   "cell_type": "code",
   "execution_count": 16,
   "metadata": {},
   "outputs": [],
   "source": [
    "# start, end, step\n",
    "\n",
    "# def get_bounds():\n",
    "now = datetime.datetime.now()\n",
    "start = (now - datetime.timedelta(minutes=10)).timestamp()\n",
    "end = now.timestamp()\n",
    "# step = datetime.timedelta(seconds=5)\n"
   ]
  },
  {
   "cell_type": "code",
   "execution_count": 27,
   "metadata": {},
   "outputs": [],
   "source": [
    "url = (\n",
    "    f'http://127.0.0.1:9090/api/v1/query_range'\n",
    "    f'?query=rate(example_app_test_metric_sum[1m])&start={start}&end={end}&step=5'\n",
    ")\n",
    "response = requests.get(url)\n",
    "response = json.loads(response.text)\n",
    "values = [float(v[1]) for v in response['data']['result'][0]['values']]"
   ]
  },
  {
   "cell_type": "code",
   "execution_count": 28,
   "metadata": {},
   "outputs": [
    {
     "data": {
      "text/plain": [
       "121"
      ]
     },
     "execution_count": 28,
     "metadata": {},
     "output_type": "execute_result"
    }
   ],
   "source": [
    "len(values)"
   ]
  },
  {
   "cell_type": "code",
   "execution_count": null,
   "metadata": {
    "collapsed": true
   },
   "outputs": [],
   "source": []
  }
 ],
 "metadata": {
  "kernelspec": {
   "display_name": "Python 3",
   "language": "python",
   "name": "python3"
  },
  "language_info": {
   "codemirror_mode": {
    "name": "ipython",
    "version": 3
   },
   "file_extension": ".py",
   "mimetype": "text/x-python",
   "name": "python",
   "nbconvert_exporter": "python",
   "pygments_lexer": "ipython3",
   "version": "3.6.2"
  }
 },
 "nbformat": 4,
 "nbformat_minor": 2
}
