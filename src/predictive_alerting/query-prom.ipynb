{
 "cells": [
  {
   "cell_type": "code",
   "execution_count": 15,
   "metadata": {
    "collapsed": true
   },
   "outputs": [],
   "source": [
    "import requests\n",
    "import json\n",
    "import datetime\n",
    "\n"
   ]
  },
  {
   "cell_type": "code",
   "execution_count": 16,
   "metadata": {},
   "outputs": [],
   "source": [
    "# start, end, step\n",
    "\n",
    "# def get_bounds():\n",
    "now = datetime.datetime.now()\n",
    "start = (now - datetime.timedelta(minutes=10)).timestamp()\n",
    "end = now.timestamp()\n",
    "# step = datetime.timedelta(seconds=5)\n"
   ]
  },
  {
   "cell_type": "code",
   "execution_count": 30,
   "metadata": {},
   "outputs": [],
   "source": [
    "url = (\n",
    "    f'http://127.0.0.1:9090/api/v1/query_range'\n",
    "    f'?query=rate(example_app_test_metric_sum[1m])&start={start}&end={end}&step=5'\n",
    ")\n",
    "response = requests.get(url)\n",
    "response = json.loads(response.text)\n",
    "values = [(float(v[1]), v[0]) for v in response['data']['result'][0]['values']]"
   ]
  },
  {
   "cell_type": "code",
   "execution_count": 31,
   "metadata": {},
   "outputs": [
    {
     "data": {
      "text/plain": [
       "121"
      ]
     },
     "execution_count": 31,
     "metadata": {},
     "output_type": "execute_result"
    }
   ],
   "source": [
    "len(values)"
   ]
  },
  {
   "cell_type": "code",
   "execution_count": 32,
   "metadata": {},
   "outputs": [
    {
     "data": {
      "text/plain": [
       "[(7624.405888180066, 1575020060.369),\n",
       " (7674.184558359239, 1575020065.369),\n",
       " (7715.461142511098, 1575020070.369),\n",
       " (7731.12566787346, 1575020075.369),\n",
       " (7737.811443471427, 1575020080.369),\n",
       " (7714.591686945559, 1575020085.369),\n",
       " (7714.633096975, 1575020090.369),\n",
       " (7882.874898290811, 1575020095.369),\n",
       " (7822.1544971026005, 1575020100.369),\n",
       " (7792.745461901769, 1575020105.369),\n",
       " (7790.257878500249, 1575020110.369),\n",
       " (7776.12200184879, 1575020115.369),\n",
       " (7763.976238371376, 1575020120.369),\n",
       " (7749.773153923282, 1575020125.369),\n",
       " (7708.194197730666, 1575020130.369),\n",
       " (7680.978469922191, 1575020135.369),\n",
       " (7664.605168743876, 1575020140.369),\n",
       " (7673.7666194810845, 1575020145.369),\n",
       " (7662.798416704782, 1575020150.369),\n",
       " (7697.115261961052, 1575020155.369),\n",
       " (7723.051300010325, 1575020160.369),\n",
       " (7752.7705800767235, 1575020165.369),\n",
       " (7762.626180766615, 1575020170.369),\n",
       " (7773.963130665714, 1575020175.369),\n",
       " (7775.605915231079, 1575020180.369),\n",
       " (7829.5643637620215, 1575020185.369),\n",
       " (7857.813620789812, 1575020190.369),\n",
       " (7884.565750492246, 1575020195.369),\n",
       " (7898.995402800932, 1575020200.369),\n",
       " (7945.67324109818, 1575020205.369),\n",
       " (7940.003657283018, 1575020210.369),\n",
       " (7941.948338049328, 1575020215.369),\n",
       " (7913.0572840892955, 1575020220.369),\n",
       " (7890.316916359808, 1575020225.369),\n",
       " (7891.905802147245, 1575020230.369),\n",
       " (7877.4889087385045, 1575020235.369),\n",
       " (7862.932812332657, 1575020240.369),\n",
       " (7828.061112520269, 1575020245.369),\n",
       " (7788.982213429391, 1575020250.369),\n",
       " (7765.791717112536, 1575020255.369),\n",
       " (7724.098290967245, 1575020260.369),\n",
       " (7735.052707192928, 1575020265.369),\n",
       " (7716.910371786407, 1575020270.369),\n",
       " (7675.124056547355, 1575020275.369),\n",
       " (7706.570892158734, 1575020280.369),\n",
       " (7716.139468176108, 1575020285.369),\n",
       " (7680.142965909474, 1575020290.369),\n",
       " (7631.265782067271, 1575020295.369),\n",
       " (7641.874018434218, 1575020300.369),\n",
       " (7675.044323462975, 1575020305.369),\n",
       " (7726.998090076045, 1575020310.369),\n",
       " (7753.505265318772, 1575020315.369),\n",
       " (7778.996222460622, 1575020320.369),\n",
       " (7823.246342977548, 1575020325.369),\n",
       " (7866.207827616496, 1575020330.369),\n",
       " (7843.23741311776, 1575020335.369),\n",
       " (7808.4982243010345, 1575020340.369),\n",
       " (7805.529215065293, 1575020345.369),\n",
       " (7816.644333606749, 1575020350.369),\n",
       " (7800.828854406342, 1575020355.369),\n",
       " (7772.06288034412, 1575020360.369),\n",
       " (7732.891725499013, 1575020365.369),\n",
       " (7707.337021861158, 1575020370.369),\n",
       " (7693.840341690634, 1575020375.369),\n",
       " (7669.476390086259, 1575020380.369),\n",
       " (7641.206380822317, 1575020385.369),\n",
       " (7659.061497850187, 1575020390.369),\n",
       " (7676.790820713144, 1575020395.369),\n",
       " (7768.903280217832, 1575020400.369),\n",
       " (7797.435067749209, 1575020405.369),\n",
       " (7821.822670831858, 1575020410.369),\n",
       " (7857.478626443381, 1575020415.369),\n",
       " (7859.4928038955995, 1575020420.369),\n",
       " (7851.803186969036, 1575020425.369),\n",
       " (7834.16349423389, 1575020430.369),\n",
       " (7840.447510293003, 1575020435.369),\n",
       " (7864.191253096198, 1575020440.369),\n",
       " (7809.00753493493, 1575020445.369),\n",
       " (7800.939188344436, 1575020450.369),\n",
       " (7747.922293842492, 1575020455.369),\n",
       " (7716.525934471377, 1575020460.369),\n",
       " (7723.910094356926, 1575020465.369),\n",
       " (7749.595682829496, 1575020470.369),\n",
       " (7755.836770535321, 1575020475.369),\n",
       " (7772.185808902317, 1575020480.369),\n",
       " (7805.555609176107, 1575020485.369),\n",
       " (7815.190877943459, 1575020490.369),\n",
       " (7822.223989784718, 1575020495.369),\n",
       " (7805.478249950105, 1575020500.369),\n",
       " (7813.261691467803, 1575020505.369),\n",
       " (7816.654985858123, 1575020510.369),\n",
       " (7799.966730554801, 1575020515.369),\n",
       " (7785.370332676712, 1575020520.369),\n",
       " (7773.267518088036, 1575020525.369),\n",
       " (7808.041525078612, 1575020530.369),\n",
       " (7788.637308809216, 1575020535.369),\n",
       " (7811.012372074661, 1575020540.369),\n",
       " (7765.2248876693275, 1575020545.369),\n",
       " (7758.387744923912, 1575020550.369),\n",
       " (7776.898579463305, 1575020555.369),\n",
       " (7805.739410470317, 1575020560.369),\n",
       " (7799.9003092003995, 1575020565.369),\n",
       " (7804.314066940581, 1575020570.369),\n",
       " (7778.216019912475, 1575020575.369),\n",
       " (7768.281124685814, 1575020580.369),\n",
       " (7734.585511961698, 1575020585.369),\n",
       " (7709.536104609844, 1575020590.369),\n",
       " (7676.207093614006, 1575020595.369),\n",
       " (7688.085070397616, 1575020600.369),\n",
       " (7680.693539029934, 1575020605.369),\n",
       " (7678.301644382143, 1575020610.369),\n",
       " (7683.767463033645, 1575020615.369),\n",
       " (7673.601147063408, 1575020620.369),\n",
       " (7665.615810747146, 1575020625.369),\n",
       " (7671.806400708723, 1575020630.369),\n",
       " (7709.278668778914, 1575020635.369),\n",
       " (7754.922928191361, 1575020640.369),\n",
       " (7767.82765551087, 1575020645.369),\n",
       " (7770.490832370355, 1575020650.369),\n",
       " (7764.862117408566, 1575020655.369),\n",
       " (7780.4980634431495, 1575020660.369)]"
      ]
     },
     "execution_count": 32,
     "metadata": {},
     "output_type": "execute_result"
    }
   ],
   "source": [
    "values"
   ]
  },
  {
   "cell_type": "code",
   "execution_count": 36,
   "metadata": {},
   "outputs": [
    {
     "ename": "ImportError",
     "evalue": "cannot import name 'PrometheusStorage'",
     "output_type": "error",
     "traceback": [
      "\u001b[0;31m---------------------------------------------------------------------------\u001b[0m",
      "\u001b[0;31mImportError\u001b[0m                               Traceback (most recent call last)",
      "\u001b[0;32m<ipython-input-36-2ef1bbbcf208>\u001b[0m in \u001b[0;36m<module>\u001b[0;34m()\u001b[0m\n\u001b[1;32m      5\u001b[0m \u001b[0;31m# from fbprophet import Prophet\u001b[0m\u001b[0;34m\u001b[0m\u001b[0;34m\u001b[0m\u001b[0m\n\u001b[1;32m      6\u001b[0m \u001b[0;34m\u001b[0m\u001b[0m\n\u001b[0;32m----> 7\u001b[0;31m \u001b[0;32mfrom\u001b[0m \u001b[0mstorage\u001b[0m \u001b[0;32mimport\u001b[0m \u001b[0mStorage\u001b[0m\u001b[0;34m,\u001b[0m \u001b[0mGraphiteStorage\u001b[0m\u001b[0;34m,\u001b[0m \u001b[0mPrometheusStorage\u001b[0m\u001b[0;34m\u001b[0m\u001b[0m\n\u001b[0m\u001b[1;32m      8\u001b[0m \u001b[0;34m\u001b[0m\u001b[0m\n\u001b[1;32m      9\u001b[0m \u001b[0;34m\u001b[0m\u001b[0m\n",
      "\u001b[0;31mImportError\u001b[0m: cannot import name 'PrometheusStorage'"
     ]
    }
   ],
   "source": [
    "import datetime\n",
    "from typing import Any, List, Union\n",
    "\n",
    "import pandas as pd\n",
    "# from fbprophet import Prophet\n",
    "\n",
    "from storage import Storage, GraphiteStorage, PrometheusStorage\n",
    "\n",
    "\n",
    "class TaskRunner:\n",
    "    def __init__(self, storage, predictor):\n",
    "        self.storage = storage\n",
    "        self.predictor = predictor\n",
    "\n",
    "    def run_task(self, metric_name: str, need_plot: bool = False):\n",
    "        minutes_to_get_metrics = 10\n",
    "        current_timestamp = datetime.datetime.now()\n",
    "        from_timestamp = current_timestamp\n",
    "        from_timestamp -= datetime.timedelta(\n",
    "            minutes=minutes_to_get_metrics,\n",
    "        )\n",
    "\n",
    "        metric_values = self.storage.read_metrics(\n",
    "            metric_name=metric_name,\n",
    "            from_timestamp=from_timestamp,\n",
    "        )\n",
    "\n",
    "        metrics_as_pddf = pd.DataFrame(\n",
    "            data=[\n",
    "                (datetime.datetime.fromtimestamp(ts), value) \n",
    "                for value,ts in metric_values \n",
    "                if value is not None\n",
    "            ],\n",
    "            columns=['ds', 'y'],\n",
    "        )\n",
    "        metrics_as_pddf['ds'] = pd.to_datetime(metrics_as_pddf['ds'])\n",
    "\n",
    "        train_test_ts_bound = from_timestamp\n",
    "        train_test_bs_bound += datetime.timedelta(\n",
    "            minutes=int(minutes_to_get_metrics * 0.9),\n",
    "        )\n",
    "\n",
    "        df_train, df_test = (\n",
    "            metrics_as_pddf[metrics_as_pddf['ds'] <= train_test_ts_bound],\n",
    "            metrics_as_pddf[metrics_as_pddf['ds'] > train_test_ts_bound],\n",
    "        )\n",
    "\n",
    "        self.predictor.fit(df_train)\n",
    "\n",
    "        future_predictions = self.predictor.predict(df_test[['ds']])\n",
    "\n",
    "        df_test['yhat_lower'] = future_predictions['yhat_lower']\n",
    "        df_test['yhat'] = future_predictions['yhat']\n",
    "        df_test['yhat_upper'] = future_predictions['yhat_upper']\n",
    "\n",
    "        bad_points = []\n",
    "        for ds, y, yhat_lower, yhat, yhat_upper in df_tez.values:\n",
    "            if not (yhat_lower <= y <= yhat_upper):\n",
    "                bad_points.append((\n",
    "                    ds,\n",
    "                    y,\n",
    "                    yhat_lower,\n",
    "                    yhat,\n",
    "                    yhat_upper,\n",
    "                ))\n",
    "\n",
    "        if need_plot:\n",
    "            self.predictor.plot(future_predictions)\n",
    "\n",
    "\n",
    "        return metric_name, bad_points"
   ]
  },
  {
   "cell_type": "code",
   "execution_count": null,
   "metadata": {
    "collapsed": true
   },
   "outputs": [],
   "source": []
  }
 ],
 "metadata": {
  "kernelspec": {
   "display_name": "Python 3",
   "language": "python",
   "name": "python3"
  },
  "language_info": {
   "codemirror_mode": {
    "name": "ipython",
    "version": 3
   },
   "file_extension": ".py",
   "mimetype": "text/x-python",
   "name": "python",
   "nbconvert_exporter": "python",
   "pygments_lexer": "ipython3",
   "version": "3.6.2"
  }
 },
 "nbformat": 4,
 "nbformat_minor": 2
}
