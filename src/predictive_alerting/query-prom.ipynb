{
 "cells": [
  {
   "cell_type": "code",
   "execution_count": 15,
   "metadata": {
    "collapsed": true
   },
   "outputs": [],
   "source": [
    "import requests\n",
    "import json\n",
    "import datetime\n",
    "\n"
   ]
  },
  {
   "cell_type": "code",
   "execution_count": 16,
   "metadata": {},
   "outputs": [],
   "source": [
    "# start, end, step\n",
    "\n",
    "# def get_bounds():\n",
    "now = datetime.datetime.now()\n",
    "start = (now - datetime.timedelta(minutes=10)).timestamp()\n",
    "end = now.timestamp()\n",
    "# step = datetime.timedelta(seconds=5)\n"
   ]
  },
  {
   "cell_type": "code",
   "execution_count": 41,
   "metadata": {},
   "outputs": [],
   "source": [
    "url = (\n",
    "    f'http://127.0.0.1:9090/api/v1/query_range'\n",
    "    f'?query=rate(example_app_test_metric_sum[1m])/rate(example_app_test_metric_count[1m])&start={start}&end={end}&step=5'\n",
    ")\n",
    "response = requests.get(url).json()\n",
    "values = [(float(v[1]), v[0]) for v in response['data']['result'][0]['values']]"
   ]
  },
  {
   "cell_type": "code",
   "execution_count": 38,
   "metadata": {},
   "outputs": [
    {
     "data": {
      "text/plain": [
       "121"
      ]
     },
     "execution_count": 38,
     "metadata": {},
     "output_type": "execute_result"
    }
   ],
   "source": [
    "len(values)"
   ]
  },
  {
   "cell_type": "code",
   "execution_count": 39,
   "metadata": {},
   "outputs": [
    {
     "data": {
      "text/plain": [
       "[(100.06176891747621, 1575020060.369),\n",
       " (100.03289919862644, 1575020065.369),\n",
       " (99.92232191313454, 1575020070.369),\n",
       " (99.91734862595187, 1575020075.369),\n",
       " (99.85753405043205, 1575020080.369),\n",
       " (99.85176097621952, 1575020085.369),\n",
       " (99.84178655658197, 1575020090.369),\n",
       " (99.78147597772107, 1575020095.369),\n",
       " (99.66340968995007, 1575020100.369),\n",
       " (99.64330856096602, 1575020105.369),\n",
       " (99.69396246444447, 1575020110.369),\n",
       " (99.63014303200377, 1575020115.369),\n",
       " (99.58120648310756, 1575020120.369),\n",
       " (99.6871632710822, 1575020125.369),\n",
       " (99.75155737608095, 1575020130.369),\n",
       " (99.69357415253063, 1575020135.369),\n",
       " (99.67659014793541, 1575020140.369),\n",
       " (99.75721604946402, 1575020145.369),\n",
       " (99.71435126906523, 1575020150.369),\n",
       " (99.80160892095493, 1575020155.369),\n",
       " (99.84088863642287, 1575020160.369),\n",
       " (99.8193291831473, 1575020165.369),\n",
       " (99.85599857312485, 1575020170.369),\n",
       " (99.89086980341428, 1575020175.369),\n",
       " (99.86344884099617, 1575020180.369),\n",
       " (99.72153083284473, 1575020185.369),\n",
       " (99.81192050744714, 1575020190.369),\n",
       " (99.87116617290178, 1575020195.369),\n",
       " (99.85423330220739, 1575020200.369),\n",
       " (99.99899074174324, 1575020205.369),\n",
       " (100.01421623377179, 1575020210.369),\n",
       " (100.0678468535561, 1575020215.369),\n",
       " (100.07638455582203, 1575020220.369),\n",
       " (100.06396347432499, 1575020225.369),\n",
       " (100.0600974967975, 1575020230.369),\n",
       " (100.07413032670209, 1575020235.369),\n",
       " (100.13996536349936, 1575020240.369),\n",
       " (100.13980421835568, 1575020245.369),\n",
       " (100.20382353742474, 1575020250.369),\n",
       " (100.17150795816511, 1575020255.369),\n",
       " (100.08317310453327, 1575020260.369),\n",
       " (100.24965991587015, 1575020265.369),\n",
       " (100.24245469275871, 1575020270.369),\n",
       " (100.26741255445475, 1575020275.369),\n",
       " (100.21531247307307, 1575020280.369),\n",
       " (100.23068221207154, 1575020285.369),\n",
       " (100.22340412083469, 1575020290.369),\n",
       " (100.33662186401112, 1575020295.369),\n",
       " (100.33898532658685, 1575020300.369),\n",
       " (100.28231915897497, 1575020305.369),\n",
       " (100.29963792759378, 1575020310.369),\n",
       " (100.30635499844985, 1575020315.369),\n",
       " (100.22491086890442, 1575020320.369),\n",
       " (100.05751279674493, 1575020325.369),\n",
       " (100.05935727880221, 1575020330.369),\n",
       " (100.14886481803592, 1575020335.369),\n",
       " (100.15400512717349, 1575020340.369),\n",
       " (100.13494355171991, 1575020345.369),\n",
       " (100.2133888923942, 1575020350.369),\n",
       " (100.1059538918786, 1575020355.369),\n",
       " (100.0052208364279, 1575020360.369),\n",
       " (100.02224348278197, 1575020365.369),\n",
       " (99.9831400962922, 1575020370.369),\n",
       " (100.00939695234311, 1575020375.369),\n",
       " (100.12127263613294, 1575020380.369),\n",
       " (100.07662713559523, 1575020385.369),\n",
       " (100.12466242957962, 1575020390.369),\n",
       " (100.01586285481793, 1575020395.369),\n",
       " (100.18545657672762, 1575020400.369),\n",
       " (100.12300099721493, 1575020405.369),\n",
       " (100.07016946054601, 1575020410.369),\n",
       " (100.28225856471558, 1575020415.369),\n",
       " (100.26482326079797, 1575020420.369),\n",
       " (100.26527528449438, 1575020425.369),\n",
       " (100.27834830627384, 1575020430.369),\n",
       " (100.30001568149514, 1575020435.369),\n",
       " (100.23502621539137, 1575020440.369),\n",
       " (100.04621723617804, 1575020445.369),\n",
       " (100.01204087621072, 1575020450.369),\n",
       " (99.86970213177933, 1575020455.369),\n",
       " (99.92217431093536, 1575020460.369),\n",
       " (99.96184826021054, 1575020465.369),\n",
       " (99.89652942393644, 1575020470.369),\n",
       " (99.9021885303892, 1575020475.369),\n",
       " (99.94263023926635, 1575020480.369),\n",
       " (100.08671484827927, 1575020485.369),\n",
       " (100.09766725376751, 1575020490.369),\n",
       " (100.12727765949447, 1575020495.369),\n",
       " (100.09274696223981, 1575020500.369),\n",
       " (100.25318851123343, 1575020505.369),\n",
       " (100.24134626746245, 1575020510.369),\n",
       " (100.37460009211354, 1575020515.369),\n",
       " (100.29140453640015, 1575020520.369),\n",
       " (100.2452538005738, 1575020525.369),\n",
       " (100.34785813899228, 1575020530.369),\n",
       " (100.23056492501469, 1575020535.369),\n",
       " (100.22432714065002, 1575020540.369),\n",
       " (100.13802112494658, 1575020545.369),\n",
       " (100.03775014688703, 1575020550.369),\n",
       " (100.06744307597457, 1575020555.369),\n",
       " (100.07533786239732, 1575020560.369),\n",
       " (100.1737084099809, 1575020565.369),\n",
       " (100.10385023486658, 1575020570.369),\n",
       " (100.08615074109949, 1575020575.369),\n",
       " (100.06423860473822, 1575020580.369),\n",
       " (100.01092795491854, 1575020585.369),\n",
       " (99.96616640101584, 1575020590.369),\n",
       " (99.98891237273581, 1575020595.369),\n",
       " (100.00300340657093, 1575020600.369),\n",
       " (100.09134241534208, 1575020605.369),\n",
       " (100.1941019062485, 1575020610.369),\n",
       " (100.2053984660963, 1575020615.369),\n",
       " (100.11160260505086, 1575020620.369),\n",
       " (100.0268096074073, 1575020625.369),\n",
       " (100.0212636871906, 1575020630.369),\n",
       " (100.0556244712513, 1575020635.369),\n",
       " (100.18650316953294, 1575020640.369),\n",
       " (100.14892751333727, 1575020645.369),\n",
       " (100.13620539530758, 1575020650.369),\n",
       " (100.15424552343366, 1575020655.369),\n",
       " (100.1032206826198, 1575020660.369)]"
      ]
     },
     "execution_count": 39,
     "metadata": {},
     "output_type": "execute_result"
    }
   ],
   "source": [
    "values"
   ]
  },
  {
   "cell_type": "code",
   "execution_count": 36,
   "metadata": {},
   "outputs": [
    {
     "ename": "ImportError",
     "evalue": "cannot import name 'PrometheusStorage'",
     "output_type": "error",
     "traceback": [
      "\u001b[0;31m---------------------------------------------------------------------------\u001b[0m",
      "\u001b[0;31mImportError\u001b[0m                               Traceback (most recent call last)",
      "\u001b[0;32m<ipython-input-36-2ef1bbbcf208>\u001b[0m in \u001b[0;36m<module>\u001b[0;34m()\u001b[0m\n\u001b[1;32m      5\u001b[0m \u001b[0;31m# from fbprophet import Prophet\u001b[0m\u001b[0;34m\u001b[0m\u001b[0;34m\u001b[0m\u001b[0m\n\u001b[1;32m      6\u001b[0m \u001b[0;34m\u001b[0m\u001b[0m\n\u001b[0;32m----> 7\u001b[0;31m \u001b[0;32mfrom\u001b[0m \u001b[0mstorage\u001b[0m \u001b[0;32mimport\u001b[0m \u001b[0mStorage\u001b[0m\u001b[0;34m,\u001b[0m \u001b[0mGraphiteStorage\u001b[0m\u001b[0;34m,\u001b[0m \u001b[0mPrometheusStorage\u001b[0m\u001b[0;34m\u001b[0m\u001b[0m\n\u001b[0m\u001b[1;32m      8\u001b[0m \u001b[0;34m\u001b[0m\u001b[0m\n\u001b[1;32m      9\u001b[0m \u001b[0;34m\u001b[0m\u001b[0m\n",
      "\u001b[0;31mImportError\u001b[0m: cannot import name 'PrometheusStorage'"
     ]
    }
   ],
   "source": [
    "import datetime\n",
    "from typing import Any, List, Union\n",
    "\n",
    "import pandas as pd\n",
    "# from fbprophet import Prophet\n",
    "\n",
    "from storage import Storage, GraphiteStorage, PrometheusStorage\n",
    "\n",
    "\n",
    "class TaskRunner:\n",
    "    def __init__(self, storage, predictor):\n",
    "        self.storage = storage\n",
    "        self.predictor = predictor\n",
    "\n",
    "    def run_task(self, metric_name: str, need_plot: bool = False):\n",
    "        minutes_to_get_metrics = 10\n",
    "        current_timestamp = datetime.datetime.now()\n",
    "        from_timestamp = current_timestamp\n",
    "        from_timestamp -= datetime.timedelta(\n",
    "            minutes=minutes_to_get_metrics,\n",
    "        )\n",
    "\n",
    "        metric_values = self.storage.read_metrics(\n",
    "            metric_name=metric_name,\n",
    "            from_timestamp=from_timestamp,\n",
    "        )\n",
    "\n",
    "        metrics_as_pddf = pd.DataFrame(\n",
    "            data=[\n",
    "                (datetime.datetime.fromtimestamp(ts), value) \n",
    "                for value,ts in metric_values \n",
    "                if value is not None\n",
    "            ],\n",
    "            columns=['ds', 'y'],\n",
    "        )\n",
    "        metrics_as_pddf['ds'] = pd.to_datetime(metrics_as_pddf['ds'])\n",
    "\n",
    "        train_test_ts_bound = from_timestamp\n",
    "        train_test_bs_bound += datetime.timedelta(\n",
    "            minutes=int(minutes_to_get_metrics * 0.9),\n",
    "        )\n",
    "\n",
    "        df_train, df_test = (\n",
    "            metrics_as_pddf[metrics_as_pddf['ds'] <= train_test_ts_bound],\n",
    "            metrics_as_pddf[metrics_as_pddf['ds'] > train_test_ts_bound],\n",
    "        )\n",
    "\n",
    "        self.predictor.fit(df_train)\n",
    "\n",
    "        future_predictions = self.predictor.predict(df_test[['ds']])\n",
    "\n",
    "        df_test['yhat_lower'] = future_predictions['yhat_lower']\n",
    "        df_test['yhat'] = future_predictions['yhat']\n",
    "        df_test['yhat_upper'] = future_predictions['yhat_upper']\n",
    "\n",
    "        bad_points = []\n",
    "        for ds, y, yhat_lower, yhat, yhat_upper in df_tez.values:\n",
    "            if not (yhat_lower <= y <= yhat_upper):\n",
    "                bad_points.append((\n",
    "                    ds,\n",
    "                    y,\n",
    "                    yhat_lower,\n",
    "                    yhat,\n",
    "                    yhat_upper,\n",
    "                ))\n",
    "\n",
    "        if need_plot:\n",
    "            self.predictor.plot(future_predictions)\n",
    "\n",
    "\n",
    "        return metric_name, bad_points"
   ]
  },
  {
   "cell_type": "code",
   "execution_count": null,
   "metadata": {
    "collapsed": true
   },
   "outputs": [],
   "source": []
  }
 ],
 "metadata": {
  "kernelspec": {
   "display_name": "Python 3",
   "language": "python",
   "name": "python3"
  },
  "language_info": {
   "codemirror_mode": {
    "name": "ipython",
    "version": 3
   },
   "file_extension": ".py",
   "mimetype": "text/x-python",
   "name": "python",
   "nbconvert_exporter": "python",
   "pygments_lexer": "ipython3",
   "version": "3.6.2"
  }
 },
 "nbformat": 4,
 "nbformat_minor": 2
}
